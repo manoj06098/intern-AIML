{
 "cells": [
  {
   "cell_type": "markdown",
   "metadata": {},
   "source": [
    "# Internship\n",
    "## Manoj.M\n",
    "## day 08\n",
    "## 1st Jun,19"
   ]
  },
  {
   "cell_type": "markdown",
   "metadata": {},
   "source": [
    "## Problem 1:\n",
    "### Problem Statement:How many runs of  Dhoni  On 4/23/2008  Chennai Super Kings vs Mumbai Indians Match"
   ]
  },
  {
   "cell_type": "code",
   "execution_count": 4,
   "metadata": {},
   "outputs": [],
   "source": [
    "import pandas as pd"
   ]
  },
  {
   "cell_type": "code",
   "execution_count": 2,
   "metadata": {},
   "outputs": [],
   "source": [
    "import numpy as np"
   ]
  },
  {
   "cell_type": "code",
   "execution_count": 23,
   "metadata": {},
   "outputs": [],
   "source": [
    "import matplotlib.pyplot as plt"
   ]
  },
  {
   "cell_type": "code",
   "execution_count": 5,
   "metadata": {},
   "outputs": [],
   "source": [
    "df=pd.read_csv(\"data/Match.csv\",encoding=\"ANSI\")\n",
    "df1=pd.read_csv(\"data2/Ball_By_Ball.csv\",encoding=\"ANSI\")\n",
    "df2=pd.read_csv(\"data2/Player.csv\",encoding=\"ANSI\")\n",
    "df3=pd.read_csv(\"data2/Player_match.csv\",encoding=\"ANSI\")\n",
    "df4=pd.read_csv(\"data2/Team.csv\",encoding=\"ANSI\")"
   ]
  },
  {
   "cell_type": "code",
   "execution_count": null,
   "metadata": {
    "scrolled": true
   },
   "outputs": [],
   "source": [
    "df2"
   ]
  },
  {
   "cell_type": "code",
   "execution_count": null,
   "metadata": {},
   "outputs": [],
   "source": [
    "def orob(filename):\n",
    "    df=pd.read_csv(filename)\n",
    "    return df\n",
    "orob(\"data/Match.csv\")\n"
   ]
  },
  {
   "cell_type": "code",
   "execution_count": null,
   "metadata": {},
   "outputs": [],
   "source": [
    "df3"
   ]
  },
  {
   "cell_type": "code",
   "execution_count": 89,
   "metadata": {},
   "outputs": [
    {
     "name": "stdout",
     "output_type": "stream",
     "text": [
      "30\n"
     ]
    }
   ],
   "source": [
    "class dhoni():\n",
    "    def match(p,filename):\n",
    "        p.matchid=0\n",
    "        for col in df.values:\n",
    "            if col[4]==\"4/23/2008\" and  (\"Chennai Super Kings\"==col[2] or col[3] and \"Mumbai Indians\"==col[2] or col[3]):\n",
    "                p.matchid=col[1]\n",
    "    def player(q,filename):\n",
    "        q.playerid=0\n",
    "        for col in df2.values:\n",
    "            if col[2]==\"MS Dhoni\":\n",
    "                q.playerid=col[1]\n",
    "    def runs(t,filename):\n",
    "        t.sum=0\n",
    "        for col in df1.values:\n",
    "            if col[0]==t.matchid and col[29]==t.playerid and col[27]==\"4/23/2008\":\n",
    "                t.sum+=col[8]\n",
    "        print(t.sum)\n",
    "                \n",
    "t=dhoni()\n",
    "t.match(\"data/Match.csv\")\n",
    "t.player(\"data2/Player.csv\")\n",
    "t.runs(\"data2/Ball_By_Ball.csv\")    \n",
    "    "
   ]
  },
  {
   "cell_type": "code",
   "execution_count": null,
   "metadata": {
    "scrolled": true
   },
   "outputs": [],
   "source": [
    "df2"
   ]
  },
  {
   "cell_type": "markdown",
   "metadata": {},
   "source": [
    "## Problem 2:\n",
    "### Problem Statement: 4/23/2008  Chennai Super Kings vs Mumbai Indians Match\n",
    "#### a.Plot a bar graph for all the players in the   Mumbai Indians  team\n"
   ]
  },
  {
   "cell_type": "code",
   "execution_count": 30,
   "metadata": {
    "scrolled": true
   },
   "outputs": [
    {
     "data": {
      "image/png": "[encoded data removed]",
      "text/plain": [
       "<Figure size 432x288 with 1 Axes>"
      ]
     },
     "metadata": {
      "needs_background": "light"
     },
     "output_type": "display_data"
    }
   ],
   "source": [
    "class dhoni():\n",
    "    def match(p,filename):\n",
    "        p.matchid=0\n",
    "        for col in df.values:\n",
    "            if col[4]==\"4/23/2008\" and  (\"Chennai Super Kings\"==col[2] or col[3] and \"Mumbai Indians\"==col[2] or col[3]):\n",
    "                p.matchid=col[1]\n",
    "    def playerid(q,filename):\n",
    "        q.playerids=[]\n",
    "        for col in df3.values:\n",
    "            if (col[2]==q.matchid and col[10]== \"Mumbai Indians\"):\n",
    "                q.playerids.append(col[3])\n",
    "    def playername(t,filename):\n",
    "        t.playernames=[]\n",
    "        for col in df2.values:\n",
    "            for i in t.playerids:\n",
    "                if i==col[1]:\n",
    "                    t.playernames.append(col[2])\n",
    "    def runs(s,filename):\n",
    "        s.sums=[]\n",
    "        for i in s.playerids:\n",
    "            s.sum1=0\n",
    "            for col in df1.values:\n",
    "                if col[0]==s.matchid and col[29]==i:\n",
    "                    s.sum1+=col[8]\n",
    "            s.sums.append(s.sum1)\n",
    "        s.plot()\n",
    "    def plot(k):\n",
    "        k.index = k.playernames\n",
    "        plt.bar(k.index,k.sums)\n",
    "        plt.xlabel('players', fontsize=5)\n",
    "        plt.ylabel('runs hit by players', fontsize=5)\n",
    "        plt.xticks(k.index,  fontsize=5, rotation=30)\n",
    "        plt.title('runs scored by each player ')\n",
    "        plt.show()   \n",
    "        \n",
    "t=dhoni()\n",
    "t.match(\"data/Match.csv\")\n",
    "t.playerid(\"data2/Player_match.csv\")\n",
    "t.playername(\"data2/Player.csv\")\n",
    "t.runs(\"data2/Ball_By_Ball.csv\")"
   ]
  },
  {
   "cell_type": "markdown",
   "metadata": {},
   "source": [
    "###  with out object creation "
   ]
  },
  {
   "cell_type": "code",
   "execution_count": 20,
   "metadata": {},
   "outputs": [
    {
     "name": "stdout",
     "output_type": "stream",
     "text": [
      "335994\n",
      "[43, 44, 46, 48, 49, 50, 71, 72, 73, 80, 150]\n",
      "335994\n"
     ]
    },
    {
     "data": {
      "text/plain": [
       "[2, 20, 43, 45, 17, 28, 24, 9, 1, 0, 0]"
      ]
     },
     "execution_count": 20,
     "metadata": {},
     "output_type": "execute_result"
    }
   ],
   "source": [
    "class dhoni():\n",
    "    def match():\n",
    "        df=pd.read_csv('data/Match.csv')\n",
    "        matchid=0\n",
    "        for col in df.values:\n",
    "            if col[4]==\"4/23/2008\" and  (\"Chennai Super Kings\"==col[2] or col[3] and \"Mumbai Indians\"==col[2] or col[3]):\n",
    "                matchid=col[1]\n",
    "        print(matchid)\n",
    "        return matchid\n",
    "    def playerid():\n",
    "        df=pd.read_csv('data2/Player_match.csv')\n",
    "        playerids=[]\n",
    "        mid=dhoni.match()\n",
    "        for col in df.values:\n",
    "            if (col[2]==mid and col[10]== \"Mumbai Indians\"):\n",
    "                playerids.append(col[3])\n",
    "        print(playerids)\n",
    "        return playerids\n",
    "    def playername():\n",
    "        df=pd.read_csv('data2/Player.match.csv')\n",
    "        playernames=[]\n",
    "        pid=dhoni.playerid()\n",
    "        for col in df.values:\n",
    "            for i in pid:\n",
    "                if i==col[1]:\n",
    "                    playernames.append(col[2])\n",
    "                \n",
    "        return playernames\n",
    "    def runs():\n",
    "        df=pd.read_csv('data2/Ball_By_Ball.csv')\n",
    "        sums=[]\n",
    "        pid=dhoni.playerid()\n",
    "        mid=dhoni.match()\n",
    "        for i in pid:\n",
    "            sum1=0\n",
    "            for col in df.values:\n",
    "                if col[0]==mid and col[29]==i:\n",
    "                    sum1+=col[8]\n",
    "            sums.append(sum1)\n",
    "        return sums\n",
    "        \n",
    "            \n",
    "        \n",
    "\n",
    "dhoni.runs()"
   ]
  },
  {
   "cell_type": "code",
   "execution_count": null,
   "metadata": {},
   "outputs": [],
   "source": []
  },
  {
   "cell_type": "code",
   "execution_count": null,
   "metadata": {},
   "outputs": [],
   "source": []
  }
 ],
 "metadata": {
  "kernelspec": {
   "display_name": "Python 3",
   "language": "python",
   "name": "python3"
  },
  "language_info": {
   "codemirror_mode": {
    "name": "ipython",
    "version": 3
   },
   "file_extension": ".py",
   "mimetype": "text/x-python",
   "name": "python",
   "nbconvert_exporter": "python",
   "pygments_lexer": "ipython3",
   "version": "3.7.3"
  }
 },
 "nbformat": 4,
 "nbformat_minor": 2
}
